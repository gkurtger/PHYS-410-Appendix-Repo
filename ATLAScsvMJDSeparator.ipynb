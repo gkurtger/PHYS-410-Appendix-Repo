{
 "cells": [
  {
   "cell_type": "code",
   "execution_count": 11,
   "metadata": {},
   "outputs": [
    {
     "data": {
      "text/plain": [
       "'\\nThis is a self-contained sub-program to ATLAScsvProcessor, to only accomplish MJD-by-MJD separation.\\n\\nWARNING: Python will write the dates accurately to a .csv, but Excel has a habit of rounding in ways you might not want.\\n\\nVersions:\\n1.0: initial roll-out. Thanks to lessons learned during previous phases of this project, flaws appear minimal or cosmetic. Choice of destination to be implemented.\\n1.0.1: Choice of destination implemented.\\n'"
      ]
     },
     "execution_count": 11,
     "metadata": {},
     "output_type": "execute_result"
    }
   ],
   "source": [
    "\"\"\"\n",
    "This is a self-contained sub-program to ATLAScsvProcessor, to only accomplish MJD-by-MJD separation.\n",
    "\n",
    "WARNING: Python will write the dates accurately to a .csv, but Excel has a habit of rounding in ways you might not want.\n",
    "\n",
    "Versions:\n",
    "1.0: initial roll-out. Thanks to lessons learned during previous phases of this project, flaws appear minimal or cosmetic. Choice of destination to be implemented.\n",
    "1.0.1: Choice of destination implemented.\n",
    "1.0.1a: End-of-file output bugs that propagated to other programs squashed.\n",
    "\"\"\""
   ]
  },
  {
   "cell_type": "code",
   "execution_count": 12,
   "metadata": {},
   "outputs": [],
   "source": [
    "import tkinter as tk\n",
    "from tkinter import filedialog\n",
    "from tkinter import messagebox\n",
    "import os"
   ]
  },
  {
   "cell_type": "code",
   "execution_count": 13,
   "metadata": {},
   "outputs": [],
   "source": [
    "def MJDSeparate(source, tarmac):\n",
    "    template = open(source, \"r\")\n",
    "    \n",
    "    nameOnly = source.split(\"/\")\n",
    "    response = tarmac + \"/\" + nameOnly[-1][:-4]\n",
    "\n",
    "\n",
    "    inlines = template.readlines()\n",
    "    outlines = []\n",
    "    \n",
    "\n",
    "    for line in inlines:\n",
    "        outlines.append(line.split(\",\"))    #populates outlines as was in filterSeparation\n",
    "\n",
    "    mindate = int(float(outlines[1][0]))                #extracts MJD of first observation\n",
    "    maxdate = int(float(outlines[-1][0]))               #extracts MJD of last observation\n",
    "\n",
    "    scandate = mindate\n",
    "    scanline = 1\n",
    "\n",
    "    while(scanline < len(outlines)):\n",
    "        lineFunnel = []\n",
    "        lineFunnel.append(outlines[0])\n",
    "        responseScan = open(response + \"_\" + str(int(float(outlines[scanline][0]))) + \".csv\", \"w\")  #the computer scientist in me weeps\n",
    "        while(scanline < len(outlines) and int(float(outlines[scanline][0])) == scandate):\n",
    "            lineFunnel.append(outlines[scanline])\n",
    "            scanline+=1\n",
    "\n",
    "        for line in lineFunnel:\n",
    "            idx = 0\n",
    "            for item in line:\n",
    "                if line!=lineFunnel[-1]:\n",
    "                    if item == line[-1]:\n",
    "                        data = item\n",
    "                    else:\n",
    "                        data = item + \",\"\n",
    "                    responseScan.write(data)\n",
    "                else:\n",
    "                    if item == line[-1] and idx == len(line)-1:\n",
    "                        data = item\n",
    "                    else:\n",
    "                        data = item + \",\"\n",
    "                    responseScan.write(data)\n",
    "                idx+=1\n",
    "\n",
    "        responseScan.close()\n",
    "        \n",
    "        scandate+=1\n",
    "\n",
    "    template.close()\n",
    "\n",
    "    messagebox.showinfo(\"Finished\",\"MJD separation complete. Check destination folder.\")"
   ]
  },
  {
   "cell_type": "code",
   "execution_count": 14,
   "metadata": {},
   "outputs": [],
   "source": [
    "def main():\n",
    "    try:\n",
    "        appWindow = tk.Tk()\n",
    "\n",
    "        # Build a list of tuples for each file type the file dialog should display\n",
    "        compatFiletypes = [('All files', '.*'), ('Comma-separated value files (.csv)', '.csv')]\n",
    "\n",
    "        # Ask the user to select a single file name.\n",
    "        template = filedialog.askopenfilename(parent=appWindow,\n",
    "                                            initialdir=os.getcwd(),\n",
    "                                            title=\"Please select source file:\",\n",
    "                                            filetypes=compatFiletypes)\n",
    "\n",
    "\n",
    "        landing = filedialog.askdirectory(parent=appWindow,\n",
    "                                 initialdir=os.getcwd(),\n",
    "                                 title=\"Please select destination folder:\")\n",
    "\n",
    "\n",
    "        if template[-4:] != \".csv\":\n",
    "            raise FileNotFoundError\n",
    "        \n",
    "        \n",
    "        MJDSeparate(template, landing)\n",
    "        appWindow.destroy()\n",
    "\n",
    "        #print(template)\n",
    "        #print(landing)\n",
    "\n",
    "    except FileNotFoundError:\n",
    "        messagebox.showerror(\"Error\", \"File does not exist, or is incompatible. Exiting.\")\n",
    "        appWindow.destroy()"
   ]
  },
  {
   "cell_type": "code",
   "execution_count": 15,
   "metadata": {},
   "outputs": [],
   "source": [
    "main()"
   ]
  },
  {
   "cell_type": "code",
   "execution_count": null,
   "metadata": {},
   "outputs": [],
   "source": []
  },
  {
   "cell_type": "code",
   "execution_count": null,
   "metadata": {},
   "outputs": [],
   "source": []
  },
  {
   "cell_type": "code",
   "execution_count": null,
   "metadata": {},
   "outputs": [],
   "source": []
  }
 ],
 "metadata": {
  "kernelspec": {
   "display_name": "Python 3.9.12 ('base')",
   "language": "python",
   "name": "python3"
  },
  "language_info": {
   "codemirror_mode": {
    "name": "ipython",
    "version": 3
   },
   "file_extension": ".py",
   "mimetype": "text/x-python",
   "name": "python",
   "nbconvert_exporter": "python",
   "pygments_lexer": "ipython3",
   "version": "3.9.12"
  },
  "orig_nbformat": 4,
  "vscode": {
   "interpreter": {
    "hash": "e78f2abf3d0666e681f3ac8e1bef7d38ade6af13bd78a3a9556b3b94b2f573b9"
   }
  }
 },
 "nbformat": 4,
 "nbformat_minor": 2
}
