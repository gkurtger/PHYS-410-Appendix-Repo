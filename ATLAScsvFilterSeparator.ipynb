{
 "cells": [
  {
   "cell_type": "code",
   "execution_count": 1,
   "metadata": {},
   "outputs": [
    {
     "data": {
      "text/plain": [
       "'\\nThis is a self-contained sub-program to ATLAScsvProcessor, to only accomplish filter separation.\\n\\nVersions:\\n1.1: Output files no longer contain extraneous terminating newline. Other than allowing independent choice of destination, the\\nprogram appears complete.\\n1.2: Program now allows independent choice of destination.\\n1.2a: Program corrected for use with clean datafiles. Docstrings added.\\n'"
      ]
     },
     "execution_count": 1,
     "metadata": {},
     "output_type": "execute_result"
    }
   ],
   "source": [
    "\"\"\"\n",
    "This is a self-contained sub-program to ATLAScsvProcessor, to only accomplish filter separation.\n",
    "\n",
    "Versions:\n",
    "1.1: Output files no longer contain extraneous terminating newline. Other than allowing independent choice of destination, the\n",
    "program appears complete.\n",
    "1.2: Program now allows independent choice of destination.\n",
    "1.2a: Program corrected for use with clean datafiles. Docstrings added.\n",
    "\"\"\""
   ]
  },
  {
   "cell_type": "code",
   "execution_count": 2,
   "metadata": {},
   "outputs": [],
   "source": [
    "import tkinter as tk\n",
    "from tkinter import filedialog\n",
    "from tkinter import messagebox\n",
    "import os"
   ]
  },
  {
   "cell_type": "code",
   "execution_count": 3,
   "metadata": {},
   "outputs": [],
   "source": [
    "def filterSeparate():     #this function assumes there are only o and c filters in the data\n",
    "\n",
    "    compatFiletypes = [('All files', '.*'), ('Comma-separated value files (.csv)', '.csv')]\n",
    "\n",
    "    # Ask the user to select a single file name.\n",
    "    source = filedialog.askopenfilename(parent=tk.Tk(),\n",
    "                                        initialdir=os.getcwd(),\n",
    "                                        title=\"Please select source file:\")\n",
    "\n",
    "    tarmac = filedialog.askdirectory(parent=tk.Tk(),\n",
    "                                initialdir=os.getcwd(),\n",
    "                                title=\"Please select destination folder:\")\n",
    "\n",
    "\n",
    "    template = open(source, \"r\")\n",
    "\n",
    "    nameOnly = source.split(\"/\")\n",
    "    trueSource = tarmac + \"/\" + nameOnly[-1][:-4]\n",
    "\n",
    "    trueSourceO = trueSource + \"_o.csv\"\n",
    "    trueSourceC = trueSource + \"_c.csv\"\n",
    "\n",
    "    responseO = open(trueSourceO, \"w\")\n",
    "    responseC = open(trueSourceC, \"w\")\n",
    "\n",
    "    inlines = template.readlines()\n",
    "    outlines = []\n",
    "    outlinesO = []\n",
    "    outlinesC = []              #to eliminate extraneous newlines, separation of lines before the write process is necessary\n",
    "\n",
    "    for line in inlines:\n",
    "        outlines.append(line.split(\",\"))\n",
    "    \n",
    "    outlinesO.append(outlines[0])\n",
    "    outlinesC.append(outlines[0])\n",
    "\n",
    "\n",
    "    for line in outlines:\n",
    "        if line[6] == \"o\":\n",
    "            outlinesO.append(line)\n",
    "            \n",
    "        elif line[6] == \"c\":\n",
    "            outlinesC.append(line)      #these two loops completely populate outlinesC and outlinesO with list representations of each line\n",
    "\n",
    "\n",
    "    for line in outlinesO:\n",
    "        for item in line:\n",
    "            if line!=outlinesO[-1]:\n",
    "                if item == line[-1]:\n",
    "                    data = item\n",
    "                else:\n",
    "                    data = item + \",\"\n",
    "                responseO.write(data)\n",
    "            else:\n",
    "                if item == line[-1]:\n",
    "                    if item[-1] != \"\\n\":\n",
    "                        data = item\n",
    "                    else:\n",
    "                        data = item[:-1]\n",
    "                else:\n",
    "                    data = item + \",\"\n",
    "                responseO.write(data)\n",
    "\n",
    "    for line in outlinesC:\n",
    "        for item in line:\n",
    "            if line!=outlinesC[-1]:\n",
    "                if item == line[-1]:\n",
    "                    data = item\n",
    "                else:\n",
    "                    data = item + \",\"\n",
    "                responseC.write(data)\n",
    "            else:\n",
    "                if item == line[-1]:\n",
    "                    if item[-1] != \"\\n\":\n",
    "                        data = item\n",
    "                    else:\n",
    "                        data = item[:-1]\n",
    "                else:\n",
    "                    data = item + \",\"\n",
    "                responseC.write(data)\n",
    "\n",
    "    template.close()\n",
    "    responseC.close()\n",
    "    responseO.close()\n",
    "\n",
    "    \n",
    "    messagebox.showinfo(\"Finished\",\"Filter separation complete. Check destination folder.\")"
   ]
  },
  {
   "cell_type": "code",
   "execution_count": 4,
   "metadata": {},
   "outputs": [],
   "source": [
    "def main():\n",
    "    \"\"\"\n",
    "    When called, prompts source file and destination directory in two pop-ups.\n",
    "    \"\"\"\n",
    "    try:\n",
    "        appWindow = tk.Tk()\n",
    "\n",
    "        # Build a list of tuples for each file type the file dialog should display\n",
    "        compatFiletypes = [('All files', '.*'), ('Comma-separated value files (.csv)', '.csv')]\n",
    "\n",
    "        # Ask the user to select a single file name.\n",
    "        template = filedialog.askopenfilename(parent=appWindow,\n",
    "                                            initialdir=os.getcwd(),\n",
    "                                            title=\"Please select source file:\",\n",
    "                                            filetypes=compatFiletypes)\n",
    "\n",
    "\n",
    "        landing = filedialog.askdirectory(parent=appWindow,\n",
    "                                 initialdir=os.getcwd(),\n",
    "                                 title=\"Please select destination folder:\")\n",
    "\n",
    "\n",
    "        if template[-4:] != \".csv\":\n",
    "            raise FileNotFoundError\n",
    "        \n",
    "        \n",
    "        filterSeparate(template, landing)\n",
    "        appWindow.destroy()\n",
    "\n",
    "        #print(template)\n",
    "        #print(landing)\n",
    "\n",
    "    except FileNotFoundError:\n",
    "        messagebox.showerror(\"Error\", \"File does not exist, or is incompatible. Exiting.\")\n",
    "        appWindow.destroy()"
   ]
  },
  {
   "cell_type": "code",
   "execution_count": 5,
   "metadata": {},
   "outputs": [],
   "source": [
    "main()"
   ]
  },
  {
   "cell_type": "code",
   "execution_count": null,
   "metadata": {},
   "outputs": [],
   "source": []
  },
  {
   "cell_type": "code",
   "execution_count": null,
   "metadata": {},
   "outputs": [],
   "source": []
  }
 ],
 "metadata": {
  "kernelspec": {
   "display_name": "Python 3 (ipykernel)",
   "language": "python",
   "name": "python3"
  },
  "language_info": {
   "codemirror_mode": {
    "name": "ipython",
    "version": 3
   },
   "file_extension": ".py",
   "mimetype": "text/x-python",
   "name": "python",
   "nbconvert_exporter": "python",
   "pygments_lexer": "ipython3",
   "version": "3.9.12"
  },
  "vscode": {
   "interpreter": {
    "hash": "e78f2abf3d0666e681f3ac8e1bef7d38ade6af13bd78a3a9556b3b94b2f573b9"
   }
  }
 },
 "nbformat": 4,
 "nbformat_minor": 2
}
