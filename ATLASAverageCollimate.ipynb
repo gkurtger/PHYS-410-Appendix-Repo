{
 "cells": [
  {
   "cell_type": "code",
   "execution_count": null,
   "metadata": {},
   "outputs": [],
   "source": [
    "\"\"\"\n",
    "This is a program to compile all averaged values (including values from days with only one observation) into a single file.\n",
    "1.0: spin-off from single-UI prototype created.\n",
    "\"\"\""
   ]
  },
  {
   "cell_type": "code",
   "execution_count": null,
   "metadata": {},
   "outputs": [],
   "source": [
    "import tkinter as tk\n",
    "from tkinter import filedialog\n",
    "from tkinter import messagebox\n",
    "import tkinter.ttk as ttk\n",
    "import os\n",
    "\n",
    "import matplotlib.pyplot as plt\n",
    "import numpy as np\n",
    "\n",
    "import math"
   ]
  },
  {
   "cell_type": "code",
   "execution_count": null,
   "metadata": {},
   "outputs": [],
   "source": [
    "def avgCompile(catapult, tarmac):\n",
    "    \"\"\"\n",
    "    WARNING: run this only on files that already have daily values written on. The program relies on the\n",
    "    \"this is an averaged point\" flag, and will give you nothing if that flag doesn't exist.\n",
    "    \"\"\"\n",
    "    \n",
    "    files = os.listdir(catapult)\n",
    "\n",
    "    nameOnly = files[0][:-20]\n",
    "    #print(nameOnly)\n",
    "    output = tarmac + \"/\" + nameOnly + \"_avgCompile.csv\"\n",
    "    response = open(output, \"w\")\n",
    "\n",
    "    headerCatch1 = open(catapult + \"/\" + files[0], \"r\")\n",
    "    headerCatch2 = headerCatch1.readlines()\n",
    "    header = headerCatch2[0]    #i write header first\n",
    "    response.write(header)      #this is a trick that has taken me embarrassingly long to notice. investigate how this can be propagated.\n",
    "                                #i DID notice it. i also noticed it causes newlines at the end. should not propagate.\n",
    "    \n",
    "    for file in files[:-1]:     #but maybe this could: do for all files/lines but the last; treat last file/line\n",
    "        if file[-4:] != \".csv\":\n",
    "            continue\n",
    "\n",
    "        source = catapult + \"/\" + file\n",
    "        template = open(source, \"r\")\n",
    "\n",
    "        inlines = template.readlines()\n",
    "\n",
    "        if len(inlines) < 3:\n",
    "            response.write(inlines[1]+\"\\n\")\n",
    "            continue\n",
    "        \n",
    "        for line in inlines[1:]:\n",
    "            if line[-3:] == \"11\\n\":\n",
    "                response.write(line)\n",
    "        \n",
    "        template.close()\n",
    "\n",
    "    source = catapult + \"/\" + files[-1]\n",
    "    template = open(source, \"r\")\n",
    "\n",
    "    inlines = template.readlines()\n",
    "\n",
    "    if len(inlines) < 3:\n",
    "        response.write(inlines[1])\n",
    "\n",
    "    for line in inlines[1:]:\n",
    "        if line[-3:] == \"11\\n\":\n",
    "            response.write(line[:-1])\n",
    "    \n",
    "    template.close()    \n",
    "    response.close()"
   ]
  },
  {
   "cell_type": "code",
   "execution_count": null,
   "metadata": {},
   "outputs": [],
   "source": [
    "def main():\n",
    "    catapult = filedialog.askdirectory(parent=tk.Tk(),\n",
    "                                 initialdir=os.getcwd(),\n",
    "                                 title=\"Please select source folder:\")\n",
    "\n",
    "\n",
    "    tarmac = filedialog.askdirectory(parent=tk.Tk(),\n",
    "                                initialdir=os.getcwd(),\n",
    "                                title=\"Please select destination folder:\")\n",
    "\n",
    "    avgCompile(catapult, tarmac)\n",
    "    messagebox.showinfo(\"Finished\",\"Average value compilation complete. Check destination folder.\")"
   ]
  },
  {
   "cell_type": "code",
   "execution_count": null,
   "metadata": {},
   "outputs": [],
   "source": [
    "main()"
   ]
  },
  {
   "cell_type": "code",
   "execution_count": null,
   "metadata": {},
   "outputs": [],
   "source": []
  },
  {
   "cell_type": "code",
   "execution_count": null,
   "metadata": {},
   "outputs": [],
   "source": []
  }
 ],
 "metadata": {
  "kernelspec": {
   "display_name": "Python 3.9.12 ('base')",
   "language": "python",
   "name": "python3"
  },
  "language_info": {
   "name": "python",
   "version": "3.9.12"
  },
  "orig_nbformat": 4,
  "vscode": {
   "interpreter": {
    "hash": "e78f2abf3d0666e681f3ac8e1bef7d38ade6af13bd78a3a9556b3b94b2f573b9"
   }
  }
 },
 "nbformat": 4,
 "nbformat_minor": 2
}
