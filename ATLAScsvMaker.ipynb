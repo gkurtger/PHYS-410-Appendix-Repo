{
 "cells": [
  {
   "cell_type": "code",
   "execution_count": 1,
   "metadata": {},
   "outputs": [],
   "source": [
    "\"\"\"\n",
    "This is a program to read .txt files that ideally use ATLAS formatting and return .csv ones, compatible with Excel or other programs Prof Balonek might give you down the line.\n",
    "\n",
    "Author: Kurt Ger '23\n",
    "\n",
    "Versions:\n",
    "1.0: Correctly converts a database of ATLAS results to a CSV file.\n",
    "1.1: GUI implemented.\n",
    "1.2: Output file no longer contains extraneous terminating newline.\n",
    "1.3.1: Allows user selection of destination folder.\n",
    "\"\"\""
   ]
  },
  {
   "cell_type": "code",
   "execution_count": 2,
   "metadata": {},
   "outputs": [],
   "source": [
    "import time\n",
    "import tkinter as tk\n",
    "from tkinter import filedialog\n",
    "from tkinter import messagebox\n",
    "import os"
   ]
  },
  {
   "cell_type": "code",
   "execution_count": 3,
   "metadata": {},
   "outputs": [],
   "source": [
    "def convert(collect, emit):\n",
    "    infile = open(collect)\n",
    "    outfile = open(emit, \"w\")\n",
    "\n",
    "    inlines = infile.readlines()\n",
    "    outlines = []\n",
    "\n",
    "    for line in inlines:\n",
    "        outlines.append(line.split())\n",
    "\n",
    "    for line in outlines:\n",
    "        for item in line:\n",
    "            if line!=outlines[-1]:\n",
    "                if item == line[-1]:\n",
    "                    data = item + \"\\n\"\n",
    "                else:\n",
    "                    data = item + \",\"\n",
    "                outfile.write(data)\n",
    "            else:\n",
    "                if item == line[-1]:\n",
    "                    data = item\n",
    "                else:\n",
    "                    data = item + \",\"\n",
    "                outfile.write(data)\n",
    "\n",
    "\n",
    "    infile.close()\n",
    "    outfile.close()"
   ]
  },
  {
   "cell_type": "code",
   "execution_count": 4,
   "metadata": {},
   "outputs": [],
   "source": [
    "def main():\n",
    "    try:\n",
    "        appWindow = tk.Tk()\n",
    "\n",
    "        # Build a list of tuples for each file type the file dialog should display\n",
    "        compatFiletypes = [('All files', '.*'), ('Text files (.txt)', '.txt')]\n",
    "\n",
    "        # Ask the user to select a single file name.\n",
    "        template = filedialog.askopenfilename(parent=appWindow,\n",
    "                                            initialdir=os.getcwd(),\n",
    "                                            title=\"Please select a file:\",\n",
    "                                            filetypes=compatFiletypes)\n",
    "\n",
    "        landing = filedialog.askdirectory(parent=appWindow,\n",
    "                                 initialdir=os.getcwd(),\n",
    "                                 title=\"Please select destination folder:\")\n",
    "\n",
    "        templateName = template.split(\"/\")[-1]\n",
    "        \n",
    "        response = landing + \"/\" + templateName[:-4] + \".csv\"\n",
    "\n",
    "        if template[-4:] != \".txt\":\n",
    "            raise FileNotFoundError\n",
    "        \n",
    "        convert(template, response)\n",
    "        \n",
    "        messagebox.showinfo(\"Finished\",\"txt-csv conversion complete. Check destination folder.\")\n",
    "        appWindow.destroy()\n",
    "\n",
    "    except FileNotFoundError:\n",
    "        messagebox.showerror(\"Error\", \"File does not exist, or is incompatible. Exiting.\")\n",
    "        appWindow.destroy()"
   ]
  },
  {
   "cell_type": "code",
   "execution_count": 5,
   "metadata": {},
   "outputs": [],
   "source": [
    "#this is the cell that actually runs the program\n",
    "main()"
   ]
  },
  {
   "cell_type": "code",
   "execution_count": null,
   "metadata": {},
   "outputs": [],
   "source": []
  }
 ],
 "metadata": {
  "kernelspec": {
   "display_name": "Python 3 (ipykernel)",
   "language": "python",
   "name": "python3"
  },
  "language_info": {
   "codemirror_mode": {
    "name": "ipython",
    "version": 3
   },
   "file_extension": ".py",
   "mimetype": "text/x-python",
   "name": "python",
   "nbconvert_exporter": "python",
   "pygments_lexer": "ipython3",
   "version": "3.9.12"
  },
  "vscode": {
   "interpreter": {
    "hash": "e78f2abf3d0666e681f3ac8e1bef7d38ade6af13bd78a3a9556b3b94b2f573b9"
   }
  }
 },
 "nbformat": 4,
 "nbformat_minor": 2
}
