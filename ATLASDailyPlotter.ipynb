{
 "cells": [
  {
   "cell_type": "code",
   "execution_count": 1,
   "metadata": {},
   "outputs": [
    {
     "data": {
      "text/plain": [
       "'\\nThis is a program to create \"diagnostic plots\" from data files that have already been separated by filter and/or date.\\n\\nAuthor: Kurt Ger \\'23\\n\\nVersions:\\n1.0: Creates correct (but hideous) plots of data from day-separated ATLAS data files.\\n1.0a: Corrected for use on clean datafiles. Docstrings added.\\n'"
      ]
     },
     "execution_count": 1,
     "metadata": {},
     "output_type": "execute_result"
    }
   ],
   "source": [
    "\"\"\"\n",
    "This is a program to create \"diagnostic plots\" from data files that have already been separated by filter and/or date.\n",
    "\n",
    "Author: Kurt Ger '23\n",
    "\n",
    "Versions:\n",
    "1.0: Creates correct (but hideous) plots of data from day-separated ATLAS data files.\n",
    "1.0a: Corrected for use on clean datafiles. Docstrings added.\n",
    "\"\"\""
   ]
  },
  {
   "cell_type": "code",
   "execution_count": 2,
   "metadata": {},
   "outputs": [],
   "source": [
    "import tkinter as tk\n",
    "from tkinter import filedialog\n",
    "from tkinter import messagebox\n",
    "import tkinter.ttk as ttk\n",
    "import os\n",
    "\n",
    "import matplotlib.pyplot as plt\n",
    "import numpy as np"
   ]
  },
  {
   "cell_type": "code",
   "execution_count": 3,
   "metadata": {},
   "outputs": [],
   "source": [
    "def dailyPlot(catapult, tarmac):\n",
    "    \"\"\"\n",
    "    Creates JD-by-JD graphs.\n",
    "    Algorithm:\n",
    "    -Obtain list of files, distinguish CSVs\n",
    "    -For each CSV, read in columns of date and magnitude\n",
    "    -Create plot, save as .png\n",
    "    \"\"\"\n",
    "    files = os.listdir(catapult)\n",
    "\n",
    "    for file in files:\n",
    "        if file[-4:] != \".csv\":     #this way, non-csv are ignored\n",
    "            continue\n",
    "\n",
    "        source = catapult + \"/\" + file\n",
    "        template = open(source, \"r\")\n",
    "        nameOnly = source.split(\"/\")\n",
    "        response = tarmac + \"/\" + nameOnly[-1][:-4] + \".png\"\n",
    "\n",
    "        inlines = template.readlines()\n",
    "        outlines = []\n",
    "\n",
    "        xVals = []\n",
    "        yVals = []\n",
    "        xErr = []\n",
    "        yErr = []\n",
    "\n",
    "        for line in inlines:\n",
    "            outlines.append(line.split(\",\"))\n",
    "        outlines = outlines[1:]\n",
    "\n",
    "        for line in outlines:\n",
    "            xVals.append(float(line[0]))\n",
    "            yVals.append(float(line[2]))\n",
    "            xErr.append(float(line[7]))\n",
    "            yErr.append(float(line[3]))\n",
    "\n",
    "        xVals = np.array(xVals)\n",
    "        #print(xVals)\n",
    "        yVals = np.array(yVals)\n",
    "        #print(yVals)\n",
    "\n",
    "        plt.plot(xVals, yVals, 'o')\n",
    "        plt.xlabel(\"JD-2459000\")\n",
    "        plt.ylabel(\"Magnitude\")\n",
    "        plt.errorbar(xVals, yVals, xerr = xErr, yerr = yErr, fmt ='o')\n",
    "\n",
    "        plt.savefig(response)\n",
    "        plt.clf()\n",
    "        plt.cla()           #i don't know why, but in the absence of these two lines, every day is mushed together\n",
    "        template.close()\n",
    "\n",
    "    messagebox.showinfo(\"Finished\",\"Daily plotting complete. Check destination folder.\")"
   ]
  },
  {
   "cell_type": "code",
   "execution_count": 4,
   "metadata": {},
   "outputs": [],
   "source": [
    "def main():\n",
    "    try:\n",
    "        appWindow = tk.Tk()\n",
    "\n",
    "\n",
    "        takeoff = filedialog.askdirectory(parent=appWindow,\n",
    "                                 initialdir=os.getcwd(),\n",
    "                                 title=\"Please select source folder:\")\n",
    "\n",
    "\n",
    "        landing = filedialog.askdirectory(parent=appWindow,\n",
    "                                 initialdir=os.getcwd(),\n",
    "                                 title=\"Please select destination folder:\")\n",
    "\n",
    "\n",
    "        #print(template)\n",
    "        #print(landing)\n",
    "\n",
    "        dailyPlot(takeoff, landing)\n",
    "        appWindow.destroy()\n",
    "\n",
    "    except FileNotFoundError:\n",
    "        messagebox.showerror(\"Error\", \"Specified directory does not exist. Exiting.\")\n",
    "        appWindow.destroy()"
   ]
  },
  {
   "cell_type": "code",
   "execution_count": 5,
   "metadata": {},
   "outputs": [],
   "source": [
    "main()"
   ]
  },
  {
   "cell_type": "code",
   "execution_count": null,
   "metadata": {},
   "outputs": [],
   "source": []
  },
  {
   "cell_type": "code",
   "execution_count": null,
   "metadata": {},
   "outputs": [],
   "source": []
  },
  {
   "cell_type": "code",
   "execution_count": null,
   "metadata": {},
   "outputs": [],
   "source": []
  },
  {
   "cell_type": "code",
   "execution_count": null,
   "metadata": {},
   "outputs": [],
   "source": []
  },
  {
   "cell_type": "code",
   "execution_count": null,
   "metadata": {},
   "outputs": [],
   "source": []
  }
 ],
 "metadata": {
  "kernelspec": {
   "display_name": "Python 3.9.12 ('base')",
   "language": "python",
   "name": "python3"
  },
  "language_info": {
   "codemirror_mode": {
    "name": "ipython",
    "version": 3
   },
   "file_extension": ".py",
   "mimetype": "text/x-python",
   "name": "python",
   "nbconvert_exporter": "python",
   "pygments_lexer": "ipython3",
   "version": "3.9.12"
  },
  "orig_nbformat": 4,
  "vscode": {
   "interpreter": {
    "hash": "e78f2abf3d0666e681f3ac8e1bef7d38ade6af13bd78a3a9556b3b94b2f573b9"
   }
  }
 },
 "nbformat": 4,
 "nbformat_minor": 2
}
